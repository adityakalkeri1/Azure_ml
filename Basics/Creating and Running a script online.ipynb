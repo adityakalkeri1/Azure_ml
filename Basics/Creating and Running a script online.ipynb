{
 "cells": [
  {
   "cell_type": "markdown",
   "metadata": {},
   "source": [
    "In this Notebook, we will be creating an authoring script to run 'cifar_10_cnn.py' execution script, which is bascically a CNN model trained on MNIST dataset\n",
    "The model will be trained in Azure ML studio. (We can also train locally)\n",
    "Steps Performed in this NB:\n",
    "    \n",
    "    1. Connect to workspace via the config.json file. Create an Experiment named : 'CIFAR_10_online'.\n",
    "    2. Connect to a Azure compute target. Either connect an existing compute cluster, or make a new one.\n",
    "    3. Create an RunConfig file, which will contain all the information about the environment parameters that the compute cluster requires to run 'cifar_10_cnn.py' successfully\n",
    "    4. Create a Script Run Config object, which has the execution environment information\n",
    "    5. Submit the run to the experiment env. and wait for completion"
   ]
  },
  {
   "cell_type": "code",
   "execution_count": null,
   "metadata": {},
   "outputs": [],
   "source": [
    "#Importing required dependencies\n",
    "#Workspace, Experiment, Run related packages\n",
    "from azureml.core import Workspace, Experiment, RunConfiguration, ScriptRunConfig\n",
    "\n",
    "#Packages for setting up online compute clusters\n",
    "from azureml.core.compute import ComputeTarget, AmlCompute\n",
    "from azureml.core.compute_target import ComputeTargetException\n",
    "\n",
    "#We will run the execution script using conda dependencies on the cluster\n",
    "from azureml.core.conda_dependencies import CondaDependencies\n",
    "from azureml.core.runconfig import DEFAULT_CPU_IMAGE\n",
    "\n",
    "import os"
   ]
  },
  {
   "cell_type": "code",
   "execution_count": null,
   "metadata": {},
   "outputs": [],
   "source": [
    "#Setting up workspace and experiment\n",
    "ws = Workspace.from_config(path='/home/aditya/.azureml/config.json')\n",
    "exp = Experiment(workspace=ws, name = 'CIFAR_10_online')"
   ]
  },
  {
   "cell_type": "code",
   "execution_count": null,
   "metadata": {},
   "outputs": [],
   "source": [
    "#Setting up compute targets\n",
    "#First let us check what compute cluster configurations are available\n",
    "AmlCompute.supported_vmsizes(workspace=ws)"
   ]
  },
  {
   "cell_type": "code",
   "execution_count": null,
   "metadata": {},
   "outputs": [],
   "source": [
    "#For this task, we will choose Standard_D2_v2\n",
    "cluster_name = 'cluster-cifar'\n",
    "min_nodes = 0\n",
    "max_nodes = 4\n",
    "vm_size = 'Standard_D2_v2'\n",
    "\n",
    "#Now the next few statements will: Load the cluster if it already exists, or create a new cluster\n",
    "try:\n",
    "    aml_cluster = ComputeTarget(workspace=ws, name = cluster_name)\n",
    "except ComputeTargetException:\n",
    "    #This will be raised if the given cluster_name doesn't exists\n",
    "    config = AmlCompute.provisioning_configuration(vm_size = vm_size,\n",
    "                                                   min_nodes = min_nodes,\n",
    "                                                   max_nodes = max_nodes)\n",
    "    aml_cluster = ComputeTarget.create(workspace=ws, name = cluster_name,\n",
    "                                      provisioning_configuration=config)\n",
    "\n",
    "#Now we will wait for completion\n",
    "aml_cluster.wait_for_completion(show_output = True)\n"
   ]
  },
  {
   "cell_type": "code",
   "execution_count": null,
   "metadata": {},
   "outputs": [],
   "source": [
    "#Now creating Run Config\n",
    "run_amlcompute = RunConfiguration()\n",
    "\n",
    "#Specifying compute target\n",
    "run_amlcompute.target = aml_cluster\n",
    "\n",
    "#Enabling docker\n",
    "run_amlcompute.environment.docker.enabled = True\n",
    "run_amlcompute.environment.docker.base_image = DEFAULT_CPU_IMAGE\n",
    "\n",
    "#Specifying python packages to be used in the script\n",
    "run_amlcompute.environment.python.user_managed_dependencies = False\n",
    "run_amlcompute.environment.python.conda_dependencies = CondaDependencies.create(pip_packages = [\n",
    "                                                        'azureml-sdk[notebooks, contrib, automl, explain]',\n",
    "                                                        'azureml-tensorboard',\n",
    "                                                        'tensorflow==2.1.0'\n",
    "                                                                 ])"
   ]
  },
  {
   "cell_type": "code",
   "execution_count": null,
   "metadata": {},
   "outputs": [],
   "source": [
    "#Specifying the training script for execution and the folder it is located in\n",
    "script = 'cifar_10_cnn.py'\n",
    "script_folder = os.getcwd()\n",
    "\n",
    "#creating scriptrunconfig object\n",
    "src = ScriptRunConfig(source_directory = script_folder,\n",
    "                      script = script,\n",
    "                      run_config = run_amlcompute)\n",
    "\n",
    "#Creating run\n",
    "run = exp.submit(src)\n",
    "\n",
    "#Waiting for run to complete\n",
    "run.wait_for_completion(show_output = True)"
   ]
  },
  {
   "cell_type": "code",
   "execution_count": null,
   "metadata": {},
   "outputs": [],
   "source": []
  }
 ],
 "metadata": {
  "kernelspec": {
   "display_name": "Python 3",
   "language": "python",
   "name": "python3"
  },
  "language_info": {
   "codemirror_mode": {
    "name": "ipython",
    "version": 3
   },
   "file_extension": ".py",
   "mimetype": "text/x-python",
   "name": "python",
   "nbconvert_exporter": "python",
   "pygments_lexer": "ipython3",
   "version": "3.8.3"
  }
 },
 "nbformat": 4,
 "nbformat_minor": 4
}
